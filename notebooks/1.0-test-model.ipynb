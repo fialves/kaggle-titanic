{
 "cells": [
  {
   "cell_type": "markdown",
   "metadata": {},
   "source": [
    "# Test Models\n",
    "\n",
    "There are many different algorithms that can be used for classification problems. In this work, we aim to compare results by some of the main algorithms and evaluate the impact of our features treatment in each of them.\n",
    "\n",
    "### Objectives\n",
    "1. Evaluate different algorithms in terms of accuracy\n",
    "2. Evaluate the impact of data categorization in algorithms\n",
    "\n",
    "#### Tested Algorithms \n",
    "1. Logistic Regression\n",
    "2. Gaussian Naive Bayes\n",
    "3. KNN Classifier\n",
    "4. Random Forest Classifier"
   ]
  },
  {
   "cell_type": "code",
   "execution_count": 1,
   "metadata": {},
   "outputs": [
    {
     "name": "stderr",
     "output_type": "stream",
     "text": [
      "/Users/fialves1/anaconda/lib/python3.6/site-packages/sklearn/ensemble/weight_boosting.py:29: DeprecationWarning: numpy.core.umath_tests is an internal NumPy module and should not be imported. It will be removed in a future NumPy release.\n",
      "  from numpy.core.umath_tests import inner1d\n"
     ]
    }
   ],
   "source": [
    "%load_ext autoreload\n",
    "%autoreload 2\n",
    "\n",
    "import numpy as np\n",
    "import pandas as pd\n",
    "\n",
    "from sklearn.linear_model import LogisticRegression\n",
    "from sklearn.naive_bayes import GaussianNB\n",
    "from sklearn.neighbors import KNeighborsClassifier\n",
    "from sklearn.ensemble import RandomForestClassifier"
   ]
  },
  {
   "cell_type": "markdown",
   "metadata": {},
   "source": [
    "## Algorithms with partially categorized features\n",
    "Our first batch of tests will input datasets without full categorization. After that, we'll compare results with and without categorization."
   ]
  },
  {
   "cell_type": "code",
   "execution_count": 2,
   "metadata": {},
   "outputs": [],
   "source": [
    "results = pd.DataFrame([])"
   ]
  },
  {
   "cell_type": "code",
   "execution_count": 3,
   "metadata": {
    "collapsed": true
   },
   "outputs": [],
   "source": [
    "df_train = pd.read_csv('../data/interim/train.csv')\n",
    "df_test = pd.read_csv('../data/interim/test.csv')"
   ]
  },
  {
   "cell_type": "markdown",
   "metadata": {},
   "source": [
    "#### Prepare to train"
   ]
  },
  {
   "cell_type": "code",
   "execution_count": 4,
   "metadata": {},
   "outputs": [
    {
     "data": {
      "text/html": [
       "<div>\n",
       "<style>\n",
       "    .dataframe thead tr:only-child th {\n",
       "        text-align: right;\n",
       "    }\n",
       "\n",
       "    .dataframe thead th {\n",
       "        text-align: left;\n",
       "    }\n",
       "\n",
       "    .dataframe tbody tr th {\n",
       "        vertical-align: top;\n",
       "    }\n",
       "</style>\n",
       "<table border=\"1\" class=\"dataframe\">\n",
       "  <thead>\n",
       "    <tr style=\"text-align: right;\">\n",
       "      <th></th>\n",
       "      <th>Unnamed: 0</th>\n",
       "      <th>Pclass</th>\n",
       "      <th>Sex</th>\n",
       "      <th>Age</th>\n",
       "      <th>SibSp</th>\n",
       "      <th>Parch</th>\n",
       "      <th>Fare</th>\n",
       "      <th>Embarked</th>\n",
       "    </tr>\n",
       "  </thead>\n",
       "  <tbody>\n",
       "    <tr>\n",
       "      <th>0</th>\n",
       "      <td>0</td>\n",
       "      <td>3</td>\n",
       "      <td>0</td>\n",
       "      <td>22.0</td>\n",
       "      <td>1</td>\n",
       "      <td>0</td>\n",
       "      <td>7.2500</td>\n",
       "      <td>0</td>\n",
       "    </tr>\n",
       "    <tr>\n",
       "      <th>1</th>\n",
       "      <td>1</td>\n",
       "      <td>1</td>\n",
       "      <td>1</td>\n",
       "      <td>38.0</td>\n",
       "      <td>1</td>\n",
       "      <td>0</td>\n",
       "      <td>71.2833</td>\n",
       "      <td>2</td>\n",
       "    </tr>\n",
       "    <tr>\n",
       "      <th>2</th>\n",
       "      <td>2</td>\n",
       "      <td>3</td>\n",
       "      <td>1</td>\n",
       "      <td>26.0</td>\n",
       "      <td>0</td>\n",
       "      <td>0</td>\n",
       "      <td>7.9250</td>\n",
       "      <td>0</td>\n",
       "    </tr>\n",
       "    <tr>\n",
       "      <th>3</th>\n",
       "      <td>3</td>\n",
       "      <td>1</td>\n",
       "      <td>1</td>\n",
       "      <td>35.0</td>\n",
       "      <td>1</td>\n",
       "      <td>0</td>\n",
       "      <td>53.1000</td>\n",
       "      <td>0</td>\n",
       "    </tr>\n",
       "    <tr>\n",
       "      <th>4</th>\n",
       "      <td>4</td>\n",
       "      <td>3</td>\n",
       "      <td>0</td>\n",
       "      <td>35.0</td>\n",
       "      <td>0</td>\n",
       "      <td>0</td>\n",
       "      <td>8.0500</td>\n",
       "      <td>0</td>\n",
       "    </tr>\n",
       "  </tbody>\n",
       "</table>\n",
       "</div>"
      ],
      "text/plain": [
       "   Unnamed: 0  Pclass  Sex   Age  SibSp  Parch     Fare  Embarked\n",
       "0           0       3    0  22.0      1      0   7.2500         0\n",
       "1           1       1    1  38.0      1      0  71.2833         2\n",
       "2           2       3    1  26.0      0      0   7.9250         0\n",
       "3           3       1    1  35.0      1      0  53.1000         0\n",
       "4           4       3    0  35.0      0      0   8.0500         0"
      ]
     },
     "execution_count": 4,
     "metadata": {},
     "output_type": "execute_result"
    }
   ],
   "source": [
    "X_train = df_train.drop(['Survived', 'PassengerId'], axis=1)\n",
    "Y_train = df_train['Survived']\n",
    "\n",
    "X_test = df_test.drop('PassengerId', axis=1)\n",
    "\n",
    "X_train.head()"
   ]
  },
  {
   "cell_type": "markdown",
   "metadata": {},
   "source": [
    "#### Cross validation 70/30"
   ]
  },
  {
   "cell_type": "code",
   "execution_count": 5,
   "metadata": {
    "collapsed": true
   },
   "outputs": [],
   "source": [
    "b_fold = round(X_train.shape[0] * 0.3)\n",
    "\n",
    "X_train_70 = X_train[:-b_fold]\n",
    "Y_train_70 = Y_train[:-b_fold]\n",
    "X_train_30 = X_train[-b_fold:]\n",
    "Y_train_30 = Y_train[-b_fold:]"
   ]
  },
  {
   "cell_type": "markdown",
   "metadata": {},
   "source": [
    "### Test Logistic Regression"
   ]
  },
  {
   "cell_type": "code",
   "execution_count": 6,
   "metadata": {},
   "outputs": [
    {
     "name": "stdout",
     "output_type": "stream",
     "text": [
      "Accuracy: 79.03%\n"
     ]
    }
   ],
   "source": [
    "log_regressor = LogisticRegression()\n",
    "log_regressor.fit(X_train_70,Y_train_70)\n",
    "prd = log_regressor.predict(X_test)\n",
    "\n",
    "score = log_regressor.score(X_train_30,Y_train_30)\n",
    "\n",
    "print(f\"Accuracy: {score:.02%}\")\n",
    "\n",
    "results = results.append([['Logistic Regression', score, 'Regular Features']], ignore_index=True)"
   ]
  },
  {
   "cell_type": "markdown",
   "metadata": {},
   "source": [
    "### Test Naive Bayes"
   ]
  },
  {
   "cell_type": "code",
   "execution_count": 7,
   "metadata": {},
   "outputs": [
    {
     "name": "stdout",
     "output_type": "stream",
     "text": [
      "Accuracy: 80.90%\n"
     ]
    }
   ],
   "source": [
    "nb_regressor = GaussianNB()\n",
    "nb_regressor.fit(X_train_70,Y_train_70)\n",
    "prd = nb_regressor.predict(X_test)\n",
    "\n",
    "score = nb_regressor.score(X_train_30,Y_train_30)\n",
    "\n",
    "print(f\"Accuracy: {score:.02%}\")\n",
    "\n",
    "results = results.append([['Gaussian Naive Bayes', score, 'Regular Features']], ignore_index=True)"
   ]
  },
  {
   "cell_type": "markdown",
   "metadata": {},
   "source": [
    "### Test KNN"
   ]
  },
  {
   "cell_type": "code",
   "execution_count": 8,
   "metadata": {},
   "outputs": [
    {
     "name": "stdout",
     "output_type": "stream",
     "text": [
      "Accuracy: 70.04%\n"
     ]
    }
   ],
   "source": [
    "knn = KNeighborsClassifier(n_neighbors=3)\n",
    "knn.fit(X_train_70,Y_train_70)\n",
    "prd = knn.predict(X_test)\n",
    "\n",
    "score = knn.score(X_train_30,Y_train_30)\n",
    "\n",
    "print(f\"Accuracy: {score:.02%}\")\n",
    "\n",
    "results = results.append([['KNN', score, 'Regular Features']], ignore_index=True)"
   ]
  },
  {
   "cell_type": "markdown",
   "metadata": {},
   "source": [
    "### Test Random Forest"
   ]
  },
  {
   "cell_type": "code",
   "execution_count": 9,
   "metadata": {},
   "outputs": [
    {
     "name": "stdout",
     "output_type": "stream",
     "text": [
      "Accuracy: 84.64%\n"
     ]
    }
   ],
   "source": [
    "rf_regressor = RandomForestClassifier(n_estimators=100)\n",
    "rf_regressor.fit(X_train_70,Y_train_70)\n",
    "prd = rf_regressor.predict(X_test)\n",
    "\n",
    "score = rf_regressor.score(X_train_30,Y_train_30)\n",
    "\n",
    "print(f\"Accuracy: {score:.02%}\")\n",
    "\n",
    "results = results.append([['Random Forest', score, 'Regular Features']], ignore_index=True)"
   ]
  },
  {
   "cell_type": "markdown",
   "metadata": {},
   "source": [
    "## Algorithms with totally categorized features and feature engineering"
   ]
  },
  {
   "cell_type": "code",
   "execution_count": 10,
   "metadata": {
    "collapsed": true
   },
   "outputs": [],
   "source": [
    "df_train_fe = pd.read_csv('../data/interim/train_fe.csv')\n",
    "df_test_fe = pd.read_csv('../data/interim/test_fe.csv')"
   ]
  },
  {
   "cell_type": "code",
   "execution_count": 11,
   "metadata": {},
   "outputs": [
    {
     "data": {
      "text/html": [
       "<div>\n",
       "<style>\n",
       "    .dataframe thead tr:only-child th {\n",
       "        text-align: right;\n",
       "    }\n",
       "\n",
       "    .dataframe thead th {\n",
       "        text-align: left;\n",
       "    }\n",
       "\n",
       "    .dataframe tbody tr th {\n",
       "        vertical-align: top;\n",
       "    }\n",
       "</style>\n",
       "<table border=\"1\" class=\"dataframe\">\n",
       "  <thead>\n",
       "    <tr style=\"text-align: right;\">\n",
       "      <th></th>\n",
       "      <th>Pclass</th>\n",
       "      <th>Sex</th>\n",
       "      <th>Age</th>\n",
       "      <th>SibSp</th>\n",
       "      <th>Parch</th>\n",
       "      <th>Fare</th>\n",
       "      <th>Embarked</th>\n",
       "      <th>hasSibSp</th>\n",
       "      <th>hasParch</th>\n",
       "      <th>AgeGroupI</th>\n",
       "      <th>AgeGroupII</th>\n",
       "      <th>AgeGroupIII</th>\n",
       "    </tr>\n",
       "  </thead>\n",
       "  <tbody>\n",
       "    <tr>\n",
       "      <th>0</th>\n",
       "      <td>3</td>\n",
       "      <td>0</td>\n",
       "      <td>22</td>\n",
       "      <td>1</td>\n",
       "      <td>0</td>\n",
       "      <td>7.2500</td>\n",
       "      <td>0</td>\n",
       "      <td>1</td>\n",
       "      <td>0</td>\n",
       "      <td>3.0</td>\n",
       "      <td>1.0</td>\n",
       "      <td>0.0</td>\n",
       "    </tr>\n",
       "    <tr>\n",
       "      <th>1</th>\n",
       "      <td>1</td>\n",
       "      <td>1</td>\n",
       "      <td>38</td>\n",
       "      <td>1</td>\n",
       "      <td>0</td>\n",
       "      <td>71.2833</td>\n",
       "      <td>2</td>\n",
       "      <td>1</td>\n",
       "      <td>0</td>\n",
       "      <td>4.0</td>\n",
       "      <td>4.0</td>\n",
       "      <td>3.0</td>\n",
       "    </tr>\n",
       "    <tr>\n",
       "      <th>2</th>\n",
       "      <td>3</td>\n",
       "      <td>1</td>\n",
       "      <td>26</td>\n",
       "      <td>0</td>\n",
       "      <td>0</td>\n",
       "      <td>7.9250</td>\n",
       "      <td>0</td>\n",
       "      <td>0</td>\n",
       "      <td>0</td>\n",
       "      <td>3.0</td>\n",
       "      <td>2.0</td>\n",
       "      <td>1.0</td>\n",
       "    </tr>\n",
       "    <tr>\n",
       "      <th>3</th>\n",
       "      <td>1</td>\n",
       "      <td>1</td>\n",
       "      <td>35</td>\n",
       "      <td>1</td>\n",
       "      <td>0</td>\n",
       "      <td>53.1000</td>\n",
       "      <td>0</td>\n",
       "      <td>1</td>\n",
       "      <td>0</td>\n",
       "      <td>4.0</td>\n",
       "      <td>3.0</td>\n",
       "      <td>2.0</td>\n",
       "    </tr>\n",
       "    <tr>\n",
       "      <th>4</th>\n",
       "      <td>3</td>\n",
       "      <td>0</td>\n",
       "      <td>35</td>\n",
       "      <td>0</td>\n",
       "      <td>0</td>\n",
       "      <td>8.0500</td>\n",
       "      <td>0</td>\n",
       "      <td>0</td>\n",
       "      <td>0</td>\n",
       "      <td>4.0</td>\n",
       "      <td>3.0</td>\n",
       "      <td>2.0</td>\n",
       "    </tr>\n",
       "  </tbody>\n",
       "</table>\n",
       "</div>"
      ],
      "text/plain": [
       "   Pclass  Sex  Age  SibSp  Parch     Fare  Embarked  hasSibSp  hasParch  \\\n",
       "0       3    0   22      1      0   7.2500         0         1         0   \n",
       "1       1    1   38      1      0  71.2833         2         1         0   \n",
       "2       3    1   26      0      0   7.9250         0         0         0   \n",
       "3       1    1   35      1      0  53.1000         0         1         0   \n",
       "4       3    0   35      0      0   8.0500         0         0         0   \n",
       "\n",
       "   AgeGroupI  AgeGroupII  AgeGroupIII  \n",
       "0        3.0         1.0          0.0  \n",
       "1        4.0         4.0          3.0  \n",
       "2        3.0         2.0          1.0  \n",
       "3        4.0         3.0          2.0  \n",
       "4        4.0         3.0          2.0  "
      ]
     },
     "execution_count": 11,
     "metadata": {},
     "output_type": "execute_result"
    }
   ],
   "source": [
    "X_train_fe = df_train_fe.drop(['Survived', 'PassengerId'], axis=1)\n",
    "Y_train_fe = df_train_fe['Survived']\n",
    "\n",
    "X_test_fe = df_test_fe.drop('PassengerId', axis=1)\n",
    "\n",
    "X_train_fe.head()"
   ]
  },
  {
   "cell_type": "code",
   "execution_count": 12,
   "metadata": {},
   "outputs": [
    {
     "data": {
      "text/html": [
       "<div>\n",
       "<style>\n",
       "    .dataframe thead tr:only-child th {\n",
       "        text-align: right;\n",
       "    }\n",
       "\n",
       "    .dataframe thead th {\n",
       "        text-align: left;\n",
       "    }\n",
       "\n",
       "    .dataframe tbody tr th {\n",
       "        vertical-align: top;\n",
       "    }\n",
       "</style>\n",
       "<table border=\"1\" class=\"dataframe\">\n",
       "  <thead>\n",
       "    <tr style=\"text-align: right;\">\n",
       "      <th></th>\n",
       "      <th>Pclass</th>\n",
       "      <th>Sex</th>\n",
       "      <th>Age</th>\n",
       "      <th>SibSp</th>\n",
       "      <th>Parch</th>\n",
       "      <th>Fare</th>\n",
       "      <th>Embarked</th>\n",
       "      <th>AgeGroupI</th>\n",
       "      <th>AgeGroupII</th>\n",
       "      <th>AgeGroupIII</th>\n",
       "      <th>hasSibSp</th>\n",
       "      <th>hasParch</th>\n",
       "    </tr>\n",
       "  </thead>\n",
       "  <tbody>\n",
       "    <tr>\n",
       "      <th>0</th>\n",
       "      <td>3</td>\n",
       "      <td>0</td>\n",
       "      <td>34</td>\n",
       "      <td>0</td>\n",
       "      <td>0</td>\n",
       "      <td>7.8292</td>\n",
       "      <td>1</td>\n",
       "      <td>4.0</td>\n",
       "      <td>3.0</td>\n",
       "      <td>2.0</td>\n",
       "      <td>0</td>\n",
       "      <td>0</td>\n",
       "    </tr>\n",
       "    <tr>\n",
       "      <th>1</th>\n",
       "      <td>3</td>\n",
       "      <td>1</td>\n",
       "      <td>47</td>\n",
       "      <td>1</td>\n",
       "      <td>0</td>\n",
       "      <td>7.0000</td>\n",
       "      <td>0</td>\n",
       "      <td>4.0</td>\n",
       "      <td>4.0</td>\n",
       "      <td>3.0</td>\n",
       "      <td>1</td>\n",
       "      <td>0</td>\n",
       "    </tr>\n",
       "    <tr>\n",
       "      <th>2</th>\n",
       "      <td>2</td>\n",
       "      <td>0</td>\n",
       "      <td>62</td>\n",
       "      <td>0</td>\n",
       "      <td>0</td>\n",
       "      <td>9.6875</td>\n",
       "      <td>1</td>\n",
       "      <td>5.0</td>\n",
       "      <td>5.0</td>\n",
       "      <td>3.0</td>\n",
       "      <td>0</td>\n",
       "      <td>0</td>\n",
       "    </tr>\n",
       "    <tr>\n",
       "      <th>3</th>\n",
       "      <td>3</td>\n",
       "      <td>0</td>\n",
       "      <td>27</td>\n",
       "      <td>0</td>\n",
       "      <td>0</td>\n",
       "      <td>8.6625</td>\n",
       "      <td>0</td>\n",
       "      <td>3.0</td>\n",
       "      <td>2.0</td>\n",
       "      <td>1.0</td>\n",
       "      <td>0</td>\n",
       "      <td>0</td>\n",
       "    </tr>\n",
       "    <tr>\n",
       "      <th>4</th>\n",
       "      <td>3</td>\n",
       "      <td>1</td>\n",
       "      <td>22</td>\n",
       "      <td>1</td>\n",
       "      <td>1</td>\n",
       "      <td>12.2875</td>\n",
       "      <td>0</td>\n",
       "      <td>3.0</td>\n",
       "      <td>1.0</td>\n",
       "      <td>0.0</td>\n",
       "      <td>1</td>\n",
       "      <td>1</td>\n",
       "    </tr>\n",
       "  </tbody>\n",
       "</table>\n",
       "</div>"
      ],
      "text/plain": [
       "   Pclass  Sex  Age  SibSp  Parch     Fare  Embarked  AgeGroupI  AgeGroupII  \\\n",
       "0       3    0   34      0      0   7.8292         1        4.0         3.0   \n",
       "1       3    1   47      1      0   7.0000         0        4.0         4.0   \n",
       "2       2    0   62      0      0   9.6875         1        5.0         5.0   \n",
       "3       3    0   27      0      0   8.6625         0        3.0         2.0   \n",
       "4       3    1   22      1      1  12.2875         0        3.0         1.0   \n",
       "\n",
       "   AgeGroupIII  hasSibSp  hasParch  \n",
       "0          2.0         0         0  \n",
       "1          3.0         1         0  \n",
       "2          3.0         0         0  \n",
       "3          1.0         0         0  \n",
       "4          0.0         1         1  "
      ]
     },
     "execution_count": 12,
     "metadata": {},
     "output_type": "execute_result"
    }
   ],
   "source": [
    "X_test_fe.head()"
   ]
  },
  {
   "cell_type": "code",
   "execution_count": 13,
   "metadata": {
    "collapsed": true
   },
   "outputs": [],
   "source": [
    "b_fold = round(X_train_fe.shape[0] * 0.3)\n",
    "\n",
    "X_train_fe_70 = X_train_fe[:-b_fold]\n",
    "Y_train_fe_70 = Y_train_fe[:-b_fold]\n",
    "X_train_fe_30 = X_train_fe[-b_fold:]\n",
    "Y_train_fe_30 = Y_train_fe[-b_fold:]"
   ]
  },
  {
   "cell_type": "markdown",
   "metadata": {},
   "source": [
    "### Test Logistic Regression"
   ]
  },
  {
   "cell_type": "code",
   "execution_count": 14,
   "metadata": {},
   "outputs": [
    {
     "name": "stdout",
     "output_type": "stream",
     "text": [
      "Accuracy: 82.40%\n"
     ]
    }
   ],
   "source": [
    "log_regressor = LogisticRegression()\n",
    "log_regressor.fit(X_train_fe_70,Y_train_fe_70)\n",
    "prd = log_regressor.predict(X_test_fe)\n",
    "\n",
    "score = log_regressor.score(X_train_fe_30,Y_train_fe_30)\n",
    "\n",
    "print(f\"Accuracy: {score:.02%}\")\n",
    "\n",
    "results = results.append([['Logistic Regression', score, 'Feature Engineering']], ignore_index=True)"
   ]
  },
  {
   "cell_type": "markdown",
   "metadata": {},
   "source": [
    "### Test Naive Bayes"
   ]
  },
  {
   "cell_type": "code",
   "execution_count": 15,
   "metadata": {
    "scrolled": true
   },
   "outputs": [
    {
     "name": "stdout",
     "output_type": "stream",
     "text": [
      "Accuracy: 80.52%\n"
     ]
    }
   ],
   "source": [
    "nb_regressor = GaussianNB()\n",
    "nb_regressor.fit(X_train_fe_70,Y_train_fe_70)\n",
    "prd = nb_regressor.predict(X_test_fe)\n",
    "\n",
    "score = nb_regressor.score(X_train_fe_30,Y_train_fe_30)\n",
    "\n",
    "print(f\"Accuracy: {score:.02%}\")\n",
    "\n",
    "results = results.append([['Gaussian Naive Bayes', score, 'Feature Engineering']], ignore_index=True)"
   ]
  },
  {
   "cell_type": "markdown",
   "metadata": {},
   "source": [
    "### Test KNN"
   ]
  },
  {
   "cell_type": "code",
   "execution_count": 16,
   "metadata": {},
   "outputs": [
    {
     "name": "stdout",
     "output_type": "stream",
     "text": [
      "Accuracy: 73.78%\n"
     ]
    }
   ],
   "source": [
    "knn = KNeighborsClassifier(n_neighbors=3)\n",
    "knn.fit(X_train_fe_70,Y_train_fe_70)\n",
    "prd = knn.predict(X_test_fe)\n",
    "\n",
    "score = knn.score(X_train_fe_30,Y_train_fe_30)\n",
    "\n",
    "print(f\"Accuracy: {score:.02%}\")\n",
    "\n",
    "results = results.append([['KNN', score,'Feature Engineering']], ignore_index=True)"
   ]
  },
  {
   "cell_type": "markdown",
   "metadata": {},
   "source": [
    "### Test Random Forest"
   ]
  },
  {
   "cell_type": "code",
   "execution_count": 17,
   "metadata": {},
   "outputs": [
    {
     "name": "stdout",
     "output_type": "stream",
     "text": [
      "Accuracy: 82.40%\n"
     ]
    }
   ],
   "source": [
    "rf_regressor = RandomForestClassifier(n_estimators=100)\n",
    "rf_regressor.fit(X_train_fe_70,Y_train_fe_70)\n",
    "prd = rf_regressor.predict(X_test_fe)\n",
    "\n",
    "score = rf_regressor.score(X_train_fe_30,Y_train_fe_30)\n",
    "\n",
    "print(f\"Accuracy: {score:.02%}\")\n",
    "\n",
    "results = results.append([['Random Forest', score,'Feature Engineering']], ignore_index=True)"
   ]
  },
  {
   "cell_type": "markdown",
   "metadata": {},
   "source": [
    "## Using only categorical features"
   ]
  },
  {
   "cell_type": "code",
   "execution_count": 18,
   "metadata": {},
   "outputs": [
    {
     "data": {
      "text/html": [
       "<div>\n",
       "<style>\n",
       "    .dataframe thead tr:only-child th {\n",
       "        text-align: right;\n",
       "    }\n",
       "\n",
       "    .dataframe thead th {\n",
       "        text-align: left;\n",
       "    }\n",
       "\n",
       "    .dataframe tbody tr th {\n",
       "        vertical-align: top;\n",
       "    }\n",
       "</style>\n",
       "<table border=\"1\" class=\"dataframe\">\n",
       "  <thead>\n",
       "    <tr style=\"text-align: right;\">\n",
       "      <th></th>\n",
       "      <th>Pclass</th>\n",
       "      <th>Sex</th>\n",
       "      <th>SibSp</th>\n",
       "      <th>Parch</th>\n",
       "      <th>Embarked</th>\n",
       "      <th>hasSibSp</th>\n",
       "      <th>hasParch</th>\n",
       "      <th>AgeGroupI</th>\n",
       "      <th>AgeGroupII</th>\n",
       "      <th>AgeGroupIII</th>\n",
       "    </tr>\n",
       "  </thead>\n",
       "  <tbody>\n",
       "    <tr>\n",
       "      <th>0</th>\n",
       "      <td>3</td>\n",
       "      <td>0</td>\n",
       "      <td>1</td>\n",
       "      <td>0</td>\n",
       "      <td>0</td>\n",
       "      <td>1</td>\n",
       "      <td>0</td>\n",
       "      <td>3.0</td>\n",
       "      <td>1.0</td>\n",
       "      <td>0.0</td>\n",
       "    </tr>\n",
       "    <tr>\n",
       "      <th>1</th>\n",
       "      <td>1</td>\n",
       "      <td>1</td>\n",
       "      <td>1</td>\n",
       "      <td>0</td>\n",
       "      <td>2</td>\n",
       "      <td>1</td>\n",
       "      <td>0</td>\n",
       "      <td>4.0</td>\n",
       "      <td>4.0</td>\n",
       "      <td>3.0</td>\n",
       "    </tr>\n",
       "    <tr>\n",
       "      <th>2</th>\n",
       "      <td>3</td>\n",
       "      <td>1</td>\n",
       "      <td>0</td>\n",
       "      <td>0</td>\n",
       "      <td>0</td>\n",
       "      <td>0</td>\n",
       "      <td>0</td>\n",
       "      <td>3.0</td>\n",
       "      <td>2.0</td>\n",
       "      <td>1.0</td>\n",
       "    </tr>\n",
       "    <tr>\n",
       "      <th>3</th>\n",
       "      <td>1</td>\n",
       "      <td>1</td>\n",
       "      <td>1</td>\n",
       "      <td>0</td>\n",
       "      <td>0</td>\n",
       "      <td>1</td>\n",
       "      <td>0</td>\n",
       "      <td>4.0</td>\n",
       "      <td>3.0</td>\n",
       "      <td>2.0</td>\n",
       "    </tr>\n",
       "    <tr>\n",
       "      <th>4</th>\n",
       "      <td>3</td>\n",
       "      <td>0</td>\n",
       "      <td>0</td>\n",
       "      <td>0</td>\n",
       "      <td>0</td>\n",
       "      <td>0</td>\n",
       "      <td>0</td>\n",
       "      <td>4.0</td>\n",
       "      <td>3.0</td>\n",
       "      <td>2.0</td>\n",
       "    </tr>\n",
       "  </tbody>\n",
       "</table>\n",
       "</div>"
      ],
      "text/plain": [
       "   Pclass  Sex  SibSp  Parch  Embarked  hasSibSp  hasParch  AgeGroupI  \\\n",
       "0       3    0      1      0         0         1         0        3.0   \n",
       "1       1    1      1      0         2         1         0        4.0   \n",
       "2       3    1      0      0         0         0         0        3.0   \n",
       "3       1    1      1      0         0         1         0        4.0   \n",
       "4       3    0      0      0         0         0         0        4.0   \n",
       "\n",
       "   AgeGroupII  AgeGroupIII  \n",
       "0         1.0          0.0  \n",
       "1         4.0          3.0  \n",
       "2         2.0          1.0  \n",
       "3         3.0          2.0  \n",
       "4         3.0          2.0  "
      ]
     },
     "execution_count": 18,
     "metadata": {},
     "output_type": "execute_result"
    }
   ],
   "source": [
    "X_train_fe_c = df_train_fe.drop(['Survived', 'PassengerId','Age', 'Fare'], axis=1)\n",
    "Y_train_fe_c = df_train_fe['Survived']\n",
    "\n",
    "X_test_fe_c = df_test_fe.drop(['PassengerId','Age', 'Fare'], axis=1)\n",
    "\n",
    "X_train_fe_c.head()"
   ]
  },
  {
   "cell_type": "code",
   "execution_count": 19,
   "metadata": {
    "collapsed": true
   },
   "outputs": [],
   "source": [
    "b_fold = round(X_train_fe_c.shape[0] * 0.3)\n",
    "\n",
    "X_train_fe_c_70 = X_train_fe_c[:-b_fold]\n",
    "Y_train_fe_c_70 = Y_train_fe_c[:-b_fold]\n",
    "X_train_fe_c_30 = X_train_fe_c[-b_fold:]\n",
    "Y_train_fe_c_30 = Y_train_fe_c[-b_fold:]"
   ]
  },
  {
   "cell_type": "markdown",
   "metadata": {},
   "source": [
    "### Test Logistic Regression"
   ]
  },
  {
   "cell_type": "code",
   "execution_count": 20,
   "metadata": {},
   "outputs": [
    {
     "name": "stdout",
     "output_type": "stream",
     "text": [
      "Accuracy: 81.65%\n"
     ]
    }
   ],
   "source": [
    "log_regressor = LogisticRegression()\n",
    "log_regressor.fit(X_train_fe_c_70,Y_train_fe_c_70)\n",
    "prd = log_regressor.predict(X_test_fe_c)\n",
    "\n",
    "score = log_regressor.score(X_train_fe_c_30,Y_train_fe_c_30)\n",
    "\n",
    "print(f\"Accuracy: {score:.02%}\")\n",
    "\n",
    "results = results.append([['Logistic Regression', score, 'Only categories']], ignore_index=True)"
   ]
  },
  {
   "cell_type": "markdown",
   "metadata": {},
   "source": [
    "### Test Naive Bayes"
   ]
  },
  {
   "cell_type": "code",
   "execution_count": 21,
   "metadata": {
    "scrolled": true
   },
   "outputs": [
    {
     "name": "stdout",
     "output_type": "stream",
     "text": [
      "Accuracy: 81.65%\n"
     ]
    }
   ],
   "source": [
    "nb_regressor = GaussianNB()\n",
    "nb_regressor.fit(X_train_fe_c_70,Y_train_fe_c_70)\n",
    "prd = nb_regressor.predict(X_test_fe_c)\n",
    "\n",
    "score = nb_regressor.score(X_train_fe_c_30,Y_train_fe_c_30)\n",
    "\n",
    "print(f\"Accuracy: {score:.02%}\")\n",
    "\n",
    "results = results.append([['Gaussian Naive Bayes', score, 'Only categories']], ignore_index=True)"
   ]
  },
  {
   "cell_type": "markdown",
   "metadata": {},
   "source": [
    "### Test KNN"
   ]
  },
  {
   "cell_type": "code",
   "execution_count": 22,
   "metadata": {},
   "outputs": [
    {
     "name": "stdout",
     "output_type": "stream",
     "text": [
      "Accuracy: 85.10%\n"
     ]
    }
   ],
   "source": [
    "knn = KNeighborsClassifier(n_neighbors=3)\n",
    "knn.fit(X_train_fe_c_70,Y_train_fe_c_70)\n",
    "prd = knn.predict(X_test_fe_c)\n",
    "\n",
    "score = knn.score(X_train_fe_c_70,Y_train_fe_c_70)\n",
    "\n",
    "print(f\"Accuracy: {score:.02%}\")\n",
    "\n",
    "results = results.append([['KNN', score,'Only categories']], ignore_index=True)"
   ]
  },
  {
   "cell_type": "markdown",
   "metadata": {},
   "source": [
    "### Test Random Forest"
   ]
  },
  {
   "cell_type": "code",
   "execution_count": 23,
   "metadata": {},
   "outputs": [
    {
     "name": "stdout",
     "output_type": "stream",
     "text": [
      "Accuracy: 83.15%\n"
     ]
    }
   ],
   "source": [
    "rf_regressor = RandomForestClassifier(n_estimators=100)\n",
    "rf_regressor.fit(X_train_fe_c_70,Y_train_fe_c_70)\n",
    "prd = rf_regressor.predict(X_test_fe_c)\n",
    "\n",
    "score = rf_regressor.score(X_train_fe_c_30,Y_train_fe_c_30)\n",
    "\n",
    "print(f\"Accuracy: {score:.02%}\")\n",
    "\n",
    "results = results.append([['Random Forest', score, 'Only categories']], ignore_index=True)"
   ]
  },
  {
   "cell_type": "markdown",
   "metadata": {},
   "source": [
    "## Conclusion\n",
    "\n",
    "In those tests, KNN result in better score."
   ]
  },
  {
   "cell_type": "code",
   "execution_count": 24,
   "metadata": {},
   "outputs": [
    {
     "data": {
      "text/html": [
       "<div>\n",
       "<style>\n",
       "    .dataframe thead tr:only-child th {\n",
       "        text-align: right;\n",
       "    }\n",
       "\n",
       "    .dataframe thead th {\n",
       "        text-align: left;\n",
       "    }\n",
       "\n",
       "    .dataframe tbody tr th {\n",
       "        vertical-align: top;\n",
       "    }\n",
       "</style>\n",
       "<table border=\"1\" class=\"dataframe\">\n",
       "  <thead>\n",
       "    <tr style=\"text-align: right;\">\n",
       "      <th></th>\n",
       "      <th>Algorithm</th>\n",
       "      <th>Score</th>\n",
       "      <th>Features</th>\n",
       "    </tr>\n",
       "  </thead>\n",
       "  <tbody>\n",
       "    <tr>\n",
       "      <th>10</th>\n",
       "      <td>KNN</td>\n",
       "      <td>0.850962</td>\n",
       "      <td>Only categories</td>\n",
       "    </tr>\n",
       "    <tr>\n",
       "      <th>3</th>\n",
       "      <td>Random Forest</td>\n",
       "      <td>0.846442</td>\n",
       "      <td>Regular Features</td>\n",
       "    </tr>\n",
       "    <tr>\n",
       "      <th>11</th>\n",
       "      <td>Random Forest</td>\n",
       "      <td>0.831461</td>\n",
       "      <td>Only categories</td>\n",
       "    </tr>\n",
       "    <tr>\n",
       "      <th>4</th>\n",
       "      <td>Logistic Regression</td>\n",
       "      <td>0.823970</td>\n",
       "      <td>Feature Engineering</td>\n",
       "    </tr>\n",
       "    <tr>\n",
       "      <th>7</th>\n",
       "      <td>Random Forest</td>\n",
       "      <td>0.823970</td>\n",
       "      <td>Feature Engineering</td>\n",
       "    </tr>\n",
       "    <tr>\n",
       "      <th>8</th>\n",
       "      <td>Logistic Regression</td>\n",
       "      <td>0.816479</td>\n",
       "      <td>Only categories</td>\n",
       "    </tr>\n",
       "    <tr>\n",
       "      <th>9</th>\n",
       "      <td>Gaussian Naive Bayes</td>\n",
       "      <td>0.816479</td>\n",
       "      <td>Only categories</td>\n",
       "    </tr>\n",
       "    <tr>\n",
       "      <th>1</th>\n",
       "      <td>Gaussian Naive Bayes</td>\n",
       "      <td>0.808989</td>\n",
       "      <td>Regular Features</td>\n",
       "    </tr>\n",
       "    <tr>\n",
       "      <th>5</th>\n",
       "      <td>Gaussian Naive Bayes</td>\n",
       "      <td>0.805243</td>\n",
       "      <td>Feature Engineering</td>\n",
       "    </tr>\n",
       "    <tr>\n",
       "      <th>0</th>\n",
       "      <td>Logistic Regression</td>\n",
       "      <td>0.790262</td>\n",
       "      <td>Regular Features</td>\n",
       "    </tr>\n",
       "    <tr>\n",
       "      <th>6</th>\n",
       "      <td>KNN</td>\n",
       "      <td>0.737828</td>\n",
       "      <td>Feature Engineering</td>\n",
       "    </tr>\n",
       "    <tr>\n",
       "      <th>2</th>\n",
       "      <td>KNN</td>\n",
       "      <td>0.700375</td>\n",
       "      <td>Regular Features</td>\n",
       "    </tr>\n",
       "  </tbody>\n",
       "</table>\n",
       "</div>"
      ],
      "text/plain": [
       "               Algorithm     Score             Features\n",
       "10                   KNN  0.850962      Only categories\n",
       "3          Random Forest  0.846442     Regular Features\n",
       "11         Random Forest  0.831461      Only categories\n",
       "4    Logistic Regression  0.823970  Feature Engineering\n",
       "7          Random Forest  0.823970  Feature Engineering\n",
       "8    Logistic Regression  0.816479      Only categories\n",
       "9   Gaussian Naive Bayes  0.816479      Only categories\n",
       "1   Gaussian Naive Bayes  0.808989     Regular Features\n",
       "5   Gaussian Naive Bayes  0.805243  Feature Engineering\n",
       "0    Logistic Regression  0.790262     Regular Features\n",
       "6                    KNN  0.737828  Feature Engineering\n",
       "2                    KNN  0.700375     Regular Features"
      ]
     },
     "execution_count": 24,
     "metadata": {},
     "output_type": "execute_result"
    }
   ],
   "source": [
    "results = results.rename(columns={0:'Algorithm', \n",
    "                        1:'Score', \n",
    "                        2:'Features'})\n",
    "        \n",
    "results.sort_values('Score', ascending=False)"
   ]
  },
  {
   "cell_type": "markdown",
   "metadata": {},
   "source": [
    "## Finally, let's run our best predictions and submit!"
   ]
  },
  {
   "cell_type": "code",
   "execution_count": 26,
   "metadata": {},
   "outputs": [],
   "source": [
    "rf_regressor = RandomForestClassifier(n_estimators=100)\n",
    "rf_regressor.fit(X_train,Y_train)\n",
    "prd = rf_regressor.predict(X_test)\n",
    "\n",
    "df_pred = pd.DataFrame({'PassengerId': df_test['PassengerId'], 'Survived': prd})\n",
    "\n",
    "df_pred.to_csv('../data/processed/submission_RF.csv',index=False)"
   ]
  },
  {
   "cell_type": "code",
   "execution_count": 27,
   "metadata": {
    "collapsed": true
   },
   "outputs": [],
   "source": [
    "knn = KNeighborsClassifier(n_neighbors=3)\n",
    "knn.fit(X_train_fe_c,Y_train_fe_c)\n",
    "prd = knn.predict(X_test_fe_c)\n",
    "\n",
    "df_pred = pd.DataFrame({'PassengerId': df_test['PassengerId'], 'Survived': prd})\n",
    "\n",
    "df_pred.to_csv('../data/processed/submission_knn.csv',index=False)"
   ]
  },
  {
   "cell_type": "code",
   "execution_count": null,
   "metadata": {},
   "outputs": [],
   "source": []
  },
  {
   "cell_type": "code",
   "execution_count": null,
   "metadata": {
    "collapsed": true
   },
   "outputs": [],
   "source": []
  }
 ],
 "metadata": {
  "kernelspec": {
   "display_name": "Python 3",
   "language": "python",
   "name": "python3"
  },
  "language_info": {
   "codemirror_mode": {
    "name": "ipython",
    "version": 3
   },
   "file_extension": ".py",
   "mimetype": "text/x-python",
   "name": "python",
   "nbconvert_exporter": "python",
   "pygments_lexer": "ipython3",
   "version": "3.6.1"
  }
 },
 "nbformat": 4,
 "nbformat_minor": 2
}
